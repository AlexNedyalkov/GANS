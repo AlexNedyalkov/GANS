{
  "nbformat": 4,
  "nbformat_minor": 0,
  "metadata": {
    "colab": {
      "provenance": [],
      "authorship_tag": "ABX9TyODwzvCz6/s+8fknz70a2c0",
      "include_colab_link": true
    },
    "kernelspec": {
      "name": "python3",
      "display_name": "Python 3"
    },
    "language_info": {
      "name": "python"
    }
  },
  "cells": [
    {
      "cell_type": "markdown",
      "metadata": {
        "id": "view-in-github",
        "colab_type": "text"
      },
      "source": [
        "<a href=\"https://colab.research.google.com/github/AlexNedyalkov/GANS/blob/main/WGAN.ipynb\" target=\"_parent\"><img src=\"https://colab.research.google.com/assets/colab-badge.svg\" alt=\"Open In Colab\"/></a>"
      ]
    },
    {
      "cell_type": "code",
      "execution_count": null,
      "metadata": {
        "id": "gXU53vaN5Mfu"
      },
      "outputs": [],
      "source": [
        "# importing the libraries\n",
        "import os, PIL, pdb\n",
        "from tqdm.auto import tqdm\n",
        "import numpy as np\n",
        "from PIL import Image\n",
        "import matplotlib.pyplot as plt\n",
        "\n",
        "import torch, torchvision\n",
        "from torch import nn\n",
        "from torch.utils.data import Dataset, DataLoad\n",
        "from torch.utils.data import DataLoader\n",
        "from torchvision import transforms\n",
        "from torchvision.utils import make_grid"
      ]
    },
    {
      "cell_type": "code",
      "source": [
        "pip install wandb -qqq"
      ],
      "metadata": {
        "id": "-Km2MdOk9kNV"
      },
      "execution_count": null,
      "outputs": []
    },
    {
      "cell_type": "code",
      "source": [
        "import wandb"
      ],
      "metadata": {
        "id": "Xe0CEtg09xaa"
      },
      "execution_count": null,
      "outputs": []
    },
    {
      "cell_type": "code",
      "source": [
        "def show(tensor, number_imgs = 25, wandb = 0, name = ''):\n",
        "  data = tensor.detach().cpu()\n",
        "  grid = make_grid(tensor[:number_imgs], n_rows = 5).permute(1,2,0) \n",
        "  if (wandb == 1 and wandbact == 1):\n",
        "    wandb.log({name : wandb.Image(grid.numpy().clip(0,1))})\n",
        "  plt.imshow(grid.clip(0,1))\n",
        "  plt.show()"
      ],
      "metadata": {
        "id": "dEpPcNnW5ZAN"
      },
      "execution_count": null,
      "outputs": []
    },
    {
      "cell_type": "markdown",
      "source": [
        "# 1. Hyperparameters"
      ],
      "metadata": {
        "id": "lxxLhTMM8g65"
      }
    },
    {
      "cell_type": "code",
      "source": [
        "### hyperparameters and general parameters\n",
        "n_epochs=10000\n",
        "batch_size=128\n",
        "lr=1e-4\n",
        "z_dim=200\n",
        "device='cuda' #GPU\n",
        "\n",
        "cur_step=0\n",
        "crit_cycles=5\n",
        "gen_losses=[]\n",
        "crit_losses=[]\n",
        "show_step=35\n",
        "save_step=35\n",
        "\n",
        "wandbact=1 # track stats through weights and biases"
      ],
      "metadata": {
        "id": "ntA1OKvf8ixJ"
      },
      "execution_count": null,
      "outputs": []
    },
    {
      "cell_type": "code",
      "source": [
        "wandb.login(key = 'f148b6299c84e1a89c731cf5cbbd7c1eb11527da')"
      ],
      "metadata": {
        "colab": {
          "base_uri": "https://localhost:8080/"
        },
        "id": "gTHx4ASL9f6d",
        "outputId": "f7d053b5-75ed-4483-9e99-bb9b59ac7020"
      },
      "execution_count": null,
      "outputs": [
        {
          "output_type": "stream",
          "name": "stderr",
          "text": [
            "\u001b[34m\u001b[1mwandb\u001b[0m: W&B API key is configured. Use \u001b[1m`wandb login --relogin`\u001b[0m to force relogin\n",
            "\u001b[34m\u001b[1mwandb\u001b[0m: \u001b[33mWARNING\u001b[0m If you're specifying your api key in code, ensure this code is not shared publicly.\n",
            "\u001b[34m\u001b[1mwandb\u001b[0m: \u001b[33mWARNING\u001b[0m Consider setting the WANDB_API_KEY environment variable, or running `wandb login` from the command line.\n",
            "\u001b[34m\u001b[1mwandb\u001b[0m: Appending key for api.wandb.ai to your netrc file: /root/.netrc\n"
          ]
        },
        {
          "output_type": "execute_result",
          "data": {
            "text/plain": [
              "True"
            ]
          },
          "metadata": {},
          "execution_count": 7
        }
      ]
    },
    {
      "cell_type": "code",
      "source": [
        "%%capture\n",
        "experiment_name = wandb.util.generate_id()\n",
        "\n",
        "myrun=wandb.init(\n",
        "    project=\"wgan\",\n",
        "    group=experiment_name,\n",
        "    config={\n",
        "        \"optimizer\":\"adam\",\n",
        "        \"model\":\"wgan gp\",\n",
        "        \"epoch\":\"1000\",\n",
        "        \"batch_size\":128\n",
        "    }\n",
        ")\n",
        "\n",
        "config=wandb.config"
      ],
      "metadata": {
        "id": "5x7zpZvA-DWC"
      },
      "execution_count": null,
      "outputs": []
    },
    {
      "cell_type": "code",
      "source": [],
      "metadata": {
        "id": "JmRDAflU_N_Z"
      },
      "execution_count": null,
      "outputs": []
    }
  ]
}